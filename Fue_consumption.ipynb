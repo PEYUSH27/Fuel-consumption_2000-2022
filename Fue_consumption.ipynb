{
  "nbformat": 4,
  "nbformat_minor": 0,
  "metadata": {
    "colab": {
      "provenance": []
    },
    "kernelspec": {
      "name": "python3",
      "display_name": "Python 3"
    },
    "language_info": {
      "name": "python"
    }
  },
  "cells": [
    {
      "cell_type": "markdown",
      "source": [
        "#FUEL CONSUMPTION 2000-2022"
      ],
      "metadata": {
        "id": "TFmRUnJpAp-M"
      }
    },
    {
      "cell_type": "code",
      "execution_count": 57,
      "metadata": {
        "id": "iIfABZE95n3t"
      },
      "outputs": [],
      "source": [
        "#Importing requied libraries\n",
        "import pandas as pd\n",
        "import numpy as np\n",
        "import matplotlib.pyplot as plt\n",
        "import seaborn as sns\n",
        "%matplotlib inline"
      ]
    },
    {
      "cell_type": "code",
      "source": [
        "#Reading the dataset\n",
        "data=pd.read_csv(\"/content/Fuel_Consumption_2000-2022.csv\")"
      ],
      "metadata": {
        "id": "NkfFTxo26MB3"
      },
      "execution_count": 58,
      "outputs": []
    },
    {
      "cell_type": "markdown",
      "source": [
        "EDA"
      ],
      "metadata": {
        "id": "TBxnaHxFBJ04"
      }
    },
    {
      "cell_type": "code",
      "source": [
        "data.shape"
      ],
      "metadata": {
        "colab": {
          "base_uri": "https://localhost:8080/"
        },
        "id": "vf4uwgke7BpF",
        "outputId": "1273c18c-e0f3-478c-fae2-849b99c74693"
      },
      "execution_count": 59,
      "outputs": [
        {
          "output_type": "execute_result",
          "data": {
            "text/plain": [
              "(22556, 13)"
            ]
          },
          "metadata": {},
          "execution_count": 59
        }
      ]
    },
    {
      "cell_type": "code",
      "source": [
        "data.info()"
      ],
      "metadata": {
        "colab": {
          "base_uri": "https://localhost:8080/"
        },
        "id": "TulHw-gi7E1P",
        "outputId": "f0f3782b-d70e-418d-d6d6-706d877b9151"
      },
      "execution_count": 60,
      "outputs": [
        {
          "output_type": "stream",
          "name": "stdout",
          "text": [
            "<class 'pandas.core.frame.DataFrame'>\n",
            "RangeIndex: 22556 entries, 0 to 22555\n",
            "Data columns (total 13 columns):\n",
            " #   Column            Non-Null Count  Dtype  \n",
            "---  ------            --------------  -----  \n",
            " 0   YEAR              22556 non-null  int64  \n",
            " 1   MAKE              22556 non-null  object \n",
            " 2   MODEL             22556 non-null  object \n",
            " 3   VEHICLE CLASS     22556 non-null  object \n",
            " 4   ENGINE SIZE       22556 non-null  float64\n",
            " 5   CYLINDERS         22556 non-null  int64  \n",
            " 6   TRANSMISSION      22556 non-null  object \n",
            " 7   FUEL              22556 non-null  object \n",
            " 8   FUEL CONSUMPTION  22556 non-null  float64\n",
            " 9   HWY (L/100 km)    22556 non-null  float64\n",
            " 10  COMB (L/100 km)   22556 non-null  float64\n",
            " 11  COMB (mpg)        22556 non-null  int64  \n",
            " 12  EMISSIONS         22556 non-null  int64  \n",
            "dtypes: float64(4), int64(4), object(5)\n",
            "memory usage: 2.2+ MB\n"
          ]
        }
      ]
    },
    {
      "cell_type": "code",
      "source": [
        "data.head(5)"
      ],
      "metadata": {
        "colab": {
          "base_uri": "https://localhost:8080/",
          "height": 285
        },
        "id": "IX-K88lO6dVv",
        "outputId": "b34e254a-0226-428c-8895-d466cb25e5fb"
      },
      "execution_count": 61,
      "outputs": [
        {
          "output_type": "execute_result",
          "data": {
            "text/plain": [
              "   YEAR   MAKE    MODEL VEHICLE CLASS  ENGINE SIZE  CYLINDERS TRANSMISSION  \\\n",
              "0  2000  ACURA    1.6EL       COMPACT          1.6          4           A4   \n",
              "1  2000  ACURA    1.6EL       COMPACT          1.6          4           M5   \n",
              "2  2000  ACURA    3.2TL      MID-SIZE          3.2          6          AS5   \n",
              "3  2000  ACURA    3.5RL      MID-SIZE          3.5          6           A4   \n",
              "4  2000  ACURA  INTEGRA    SUBCOMPACT          1.8          4           A4   \n",
              "\n",
              "  FUEL  FUEL CONSUMPTION  HWY (L/100 km)  COMB (L/100 km)  COMB (mpg)  \\\n",
              "0    X               9.2             6.7              8.1          35   \n",
              "1    X               8.5             6.5              7.6          37   \n",
              "2    Z              12.2             7.4             10.0          28   \n",
              "3    Z              13.4             9.2             11.5          25   \n",
              "4    X              10.0             7.0              8.6          33   \n",
              "\n",
              "   EMISSIONS  \n",
              "0        186  \n",
              "1        175  \n",
              "2        230  \n",
              "3        264  \n",
              "4        198  "
            ],
            "text/html": [
              "\n",
              "  <div id=\"df-7f00b78b-941c-4a12-a040-b158d4d84940\">\n",
              "    <div class=\"colab-df-container\">\n",
              "      <div>\n",
              "<style scoped>\n",
              "    .dataframe tbody tr th:only-of-type {\n",
              "        vertical-align: middle;\n",
              "    }\n",
              "\n",
              "    .dataframe tbody tr th {\n",
              "        vertical-align: top;\n",
              "    }\n",
              "\n",
              "    .dataframe thead th {\n",
              "        text-align: right;\n",
              "    }\n",
              "</style>\n",
              "<table border=\"1\" class=\"dataframe\">\n",
              "  <thead>\n",
              "    <tr style=\"text-align: right;\">\n",
              "      <th></th>\n",
              "      <th>YEAR</th>\n",
              "      <th>MAKE</th>\n",
              "      <th>MODEL</th>\n",
              "      <th>VEHICLE CLASS</th>\n",
              "      <th>ENGINE SIZE</th>\n",
              "      <th>CYLINDERS</th>\n",
              "      <th>TRANSMISSION</th>\n",
              "      <th>FUEL</th>\n",
              "      <th>FUEL CONSUMPTION</th>\n",
              "      <th>HWY (L/100 km)</th>\n",
              "      <th>COMB (L/100 km)</th>\n",
              "      <th>COMB (mpg)</th>\n",
              "      <th>EMISSIONS</th>\n",
              "    </tr>\n",
              "  </thead>\n",
              "  <tbody>\n",
              "    <tr>\n",
              "      <th>0</th>\n",
              "      <td>2000</td>\n",
              "      <td>ACURA</td>\n",
              "      <td>1.6EL</td>\n",
              "      <td>COMPACT</td>\n",
              "      <td>1.6</td>\n",
              "      <td>4</td>\n",
              "      <td>A4</td>\n",
              "      <td>X</td>\n",
              "      <td>9.2</td>\n",
              "      <td>6.7</td>\n",
              "      <td>8.1</td>\n",
              "      <td>35</td>\n",
              "      <td>186</td>\n",
              "    </tr>\n",
              "    <tr>\n",
              "      <th>1</th>\n",
              "      <td>2000</td>\n",
              "      <td>ACURA</td>\n",
              "      <td>1.6EL</td>\n",
              "      <td>COMPACT</td>\n",
              "      <td>1.6</td>\n",
              "      <td>4</td>\n",
              "      <td>M5</td>\n",
              "      <td>X</td>\n",
              "      <td>8.5</td>\n",
              "      <td>6.5</td>\n",
              "      <td>7.6</td>\n",
              "      <td>37</td>\n",
              "      <td>175</td>\n",
              "    </tr>\n",
              "    <tr>\n",
              "      <th>2</th>\n",
              "      <td>2000</td>\n",
              "      <td>ACURA</td>\n",
              "      <td>3.2TL</td>\n",
              "      <td>MID-SIZE</td>\n",
              "      <td>3.2</td>\n",
              "      <td>6</td>\n",
              "      <td>AS5</td>\n",
              "      <td>Z</td>\n",
              "      <td>12.2</td>\n",
              "      <td>7.4</td>\n",
              "      <td>10.0</td>\n",
              "      <td>28</td>\n",
              "      <td>230</td>\n",
              "    </tr>\n",
              "    <tr>\n",
              "      <th>3</th>\n",
              "      <td>2000</td>\n",
              "      <td>ACURA</td>\n",
              "      <td>3.5RL</td>\n",
              "      <td>MID-SIZE</td>\n",
              "      <td>3.5</td>\n",
              "      <td>6</td>\n",
              "      <td>A4</td>\n",
              "      <td>Z</td>\n",
              "      <td>13.4</td>\n",
              "      <td>9.2</td>\n",
              "      <td>11.5</td>\n",
              "      <td>25</td>\n",
              "      <td>264</td>\n",
              "    </tr>\n",
              "    <tr>\n",
              "      <th>4</th>\n",
              "      <td>2000</td>\n",
              "      <td>ACURA</td>\n",
              "      <td>INTEGRA</td>\n",
              "      <td>SUBCOMPACT</td>\n",
              "      <td>1.8</td>\n",
              "      <td>4</td>\n",
              "      <td>A4</td>\n",
              "      <td>X</td>\n",
              "      <td>10.0</td>\n",
              "      <td>7.0</td>\n",
              "      <td>8.6</td>\n",
              "      <td>33</td>\n",
              "      <td>198</td>\n",
              "    </tr>\n",
              "  </tbody>\n",
              "</table>\n",
              "</div>\n",
              "      <button class=\"colab-df-convert\" onclick=\"convertToInteractive('df-7f00b78b-941c-4a12-a040-b158d4d84940')\"\n",
              "              title=\"Convert this dataframe to an interactive table.\"\n",
              "              style=\"display:none;\">\n",
              "        \n",
              "  <svg xmlns=\"http://www.w3.org/2000/svg\" height=\"24px\"viewBox=\"0 0 24 24\"\n",
              "       width=\"24px\">\n",
              "    <path d=\"M0 0h24v24H0V0z\" fill=\"none\"/>\n",
              "    <path d=\"M18.56 5.44l.94 2.06.94-2.06 2.06-.94-2.06-.94-.94-2.06-.94 2.06-2.06.94zm-11 1L8.5 8.5l.94-2.06 2.06-.94-2.06-.94L8.5 2.5l-.94 2.06-2.06.94zm10 10l.94 2.06.94-2.06 2.06-.94-2.06-.94-.94-2.06-.94 2.06-2.06.94z\"/><path d=\"M17.41 7.96l-1.37-1.37c-.4-.4-.92-.59-1.43-.59-.52 0-1.04.2-1.43.59L10.3 9.45l-7.72 7.72c-.78.78-.78 2.05 0 2.83L4 21.41c.39.39.9.59 1.41.59.51 0 1.02-.2 1.41-.59l7.78-7.78 2.81-2.81c.8-.78.8-2.07 0-2.86zM5.41 20L4 18.59l7.72-7.72 1.47 1.35L5.41 20z\"/>\n",
              "  </svg>\n",
              "      </button>\n",
              "      \n",
              "  <style>\n",
              "    .colab-df-container {\n",
              "      display:flex;\n",
              "      flex-wrap:wrap;\n",
              "      gap: 12px;\n",
              "    }\n",
              "\n",
              "    .colab-df-convert {\n",
              "      background-color: #E8F0FE;\n",
              "      border: none;\n",
              "      border-radius: 50%;\n",
              "      cursor: pointer;\n",
              "      display: none;\n",
              "      fill: #1967D2;\n",
              "      height: 32px;\n",
              "      padding: 0 0 0 0;\n",
              "      width: 32px;\n",
              "    }\n",
              "\n",
              "    .colab-df-convert:hover {\n",
              "      background-color: #E2EBFA;\n",
              "      box-shadow: 0px 1px 2px rgba(60, 64, 67, 0.3), 0px 1px 3px 1px rgba(60, 64, 67, 0.15);\n",
              "      fill: #174EA6;\n",
              "    }\n",
              "\n",
              "    [theme=dark] .colab-df-convert {\n",
              "      background-color: #3B4455;\n",
              "      fill: #D2E3FC;\n",
              "    }\n",
              "\n",
              "    [theme=dark] .colab-df-convert:hover {\n",
              "      background-color: #434B5C;\n",
              "      box-shadow: 0px 1px 3px 1px rgba(0, 0, 0, 0.15);\n",
              "      filter: drop-shadow(0px 1px 2px rgba(0, 0, 0, 0.3));\n",
              "      fill: #FFFFFF;\n",
              "    }\n",
              "  </style>\n",
              "\n",
              "      <script>\n",
              "        const buttonEl =\n",
              "          document.querySelector('#df-7f00b78b-941c-4a12-a040-b158d4d84940 button.colab-df-convert');\n",
              "        buttonEl.style.display =\n",
              "          google.colab.kernel.accessAllowed ? 'block' : 'none';\n",
              "\n",
              "        async function convertToInteractive(key) {\n",
              "          const element = document.querySelector('#df-7f00b78b-941c-4a12-a040-b158d4d84940');\n",
              "          const dataTable =\n",
              "            await google.colab.kernel.invokeFunction('convertToInteractive',\n",
              "                                                     [key], {});\n",
              "          if (!dataTable) return;\n",
              "\n",
              "          const docLinkHtml = 'Like what you see? Visit the ' +\n",
              "            '<a target=\"_blank\" href=https://colab.research.google.com/notebooks/data_table.ipynb>data table notebook</a>'\n",
              "            + ' to learn more about interactive tables.';\n",
              "          element.innerHTML = '';\n",
              "          dataTable['output_type'] = 'display_data';\n",
              "          await google.colab.output.renderOutput(dataTable, element);\n",
              "          const docLink = document.createElement('div');\n",
              "          docLink.innerHTML = docLinkHtml;\n",
              "          element.appendChild(docLink);\n",
              "        }\n",
              "      </script>\n",
              "    </div>\n",
              "  </div>\n",
              "  "
            ]
          },
          "metadata": {},
          "execution_count": 61
        }
      ]
    },
    {
      "cell_type": "code",
      "source": [
        "data.tail(5)"
      ],
      "metadata": {
        "colab": {
          "base_uri": "https://localhost:8080/",
          "height": 458
        },
        "id": "NqlFxIy76o1f",
        "outputId": "1d8702e4-69c6-4df6-9750-d2d35d09e1b0"
      },
      "execution_count": 62,
      "outputs": [
        {
          "output_type": "execute_result",
          "data": {
            "text/plain": [
              "       YEAR   MAKE        MODEL  VEHICLE CLASS  ENGINE SIZE  CYLINDERS  \\\n",
              "22551  2022  Volvo  XC40 T5 AWD     SUV: Small          2.0          4   \n",
              "22552  2022  Volvo  XC60 B5 AWD     SUV: Small          2.0          4   \n",
              "22553  2022  Volvo  XC60 B6 AWD     SUV: Small          2.0          4   \n",
              "22554  2022  Volvo  XC90 T5 AWD  SUV: Standard          2.0          4   \n",
              "22555  2022  Volvo  XC90 T6 AWD  SUV: Standard          2.0          4   \n",
              "\n",
              "      TRANSMISSION FUEL  FUEL CONSUMPTION  HWY (L/100 km)  COMB (L/100 km)  \\\n",
              "22551          AS8    Z              10.7             7.7              9.4   \n",
              "22552          AS8    Z              10.5             8.1              9.4   \n",
              "22553          AS8    Z              11.0             8.7              9.9   \n",
              "22554          AS8    Z              11.5             8.4             10.1   \n",
              "22555          AS8    Z              12.4             8.9             10.8   \n",
              "\n",
              "       COMB (mpg)  EMISSIONS  \n",
              "22551          30        219  \n",
              "22552          30        219  \n",
              "22553          29        232  \n",
              "22554          28        236  \n",
              "22555          26        252  "
            ],
            "text/html": [
              "\n",
              "  <div id=\"df-ccf1ed5b-29f9-4aa2-93f2-1ce7dc80a0a3\">\n",
              "    <div class=\"colab-df-container\">\n",
              "      <div>\n",
              "<style scoped>\n",
              "    .dataframe tbody tr th:only-of-type {\n",
              "        vertical-align: middle;\n",
              "    }\n",
              "\n",
              "    .dataframe tbody tr th {\n",
              "        vertical-align: top;\n",
              "    }\n",
              "\n",
              "    .dataframe thead th {\n",
              "        text-align: right;\n",
              "    }\n",
              "</style>\n",
              "<table border=\"1\" class=\"dataframe\">\n",
              "  <thead>\n",
              "    <tr style=\"text-align: right;\">\n",
              "      <th></th>\n",
              "      <th>YEAR</th>\n",
              "      <th>MAKE</th>\n",
              "      <th>MODEL</th>\n",
              "      <th>VEHICLE CLASS</th>\n",
              "      <th>ENGINE SIZE</th>\n",
              "      <th>CYLINDERS</th>\n",
              "      <th>TRANSMISSION</th>\n",
              "      <th>FUEL</th>\n",
              "      <th>FUEL CONSUMPTION</th>\n",
              "      <th>HWY (L/100 km)</th>\n",
              "      <th>COMB (L/100 km)</th>\n",
              "      <th>COMB (mpg)</th>\n",
              "      <th>EMISSIONS</th>\n",
              "    </tr>\n",
              "  </thead>\n",
              "  <tbody>\n",
              "    <tr>\n",
              "      <th>22551</th>\n",
              "      <td>2022</td>\n",
              "      <td>Volvo</td>\n",
              "      <td>XC40 T5 AWD</td>\n",
              "      <td>SUV: Small</td>\n",
              "      <td>2.0</td>\n",
              "      <td>4</td>\n",
              "      <td>AS8</td>\n",
              "      <td>Z</td>\n",
              "      <td>10.7</td>\n",
              "      <td>7.7</td>\n",
              "      <td>9.4</td>\n",
              "      <td>30</td>\n",
              "      <td>219</td>\n",
              "    </tr>\n",
              "    <tr>\n",
              "      <th>22552</th>\n",
              "      <td>2022</td>\n",
              "      <td>Volvo</td>\n",
              "      <td>XC60 B5 AWD</td>\n",
              "      <td>SUV: Small</td>\n",
              "      <td>2.0</td>\n",
              "      <td>4</td>\n",
              "      <td>AS8</td>\n",
              "      <td>Z</td>\n",
              "      <td>10.5</td>\n",
              "      <td>8.1</td>\n",
              "      <td>9.4</td>\n",
              "      <td>30</td>\n",
              "      <td>219</td>\n",
              "    </tr>\n",
              "    <tr>\n",
              "      <th>22553</th>\n",
              "      <td>2022</td>\n",
              "      <td>Volvo</td>\n",
              "      <td>XC60 B6 AWD</td>\n",
              "      <td>SUV: Small</td>\n",
              "      <td>2.0</td>\n",
              "      <td>4</td>\n",
              "      <td>AS8</td>\n",
              "      <td>Z</td>\n",
              "      <td>11.0</td>\n",
              "      <td>8.7</td>\n",
              "      <td>9.9</td>\n",
              "      <td>29</td>\n",
              "      <td>232</td>\n",
              "    </tr>\n",
              "    <tr>\n",
              "      <th>22554</th>\n",
              "      <td>2022</td>\n",
              "      <td>Volvo</td>\n",
              "      <td>XC90 T5 AWD</td>\n",
              "      <td>SUV: Standard</td>\n",
              "      <td>2.0</td>\n",
              "      <td>4</td>\n",
              "      <td>AS8</td>\n",
              "      <td>Z</td>\n",
              "      <td>11.5</td>\n",
              "      <td>8.4</td>\n",
              "      <td>10.1</td>\n",
              "      <td>28</td>\n",
              "      <td>236</td>\n",
              "    </tr>\n",
              "    <tr>\n",
              "      <th>22555</th>\n",
              "      <td>2022</td>\n",
              "      <td>Volvo</td>\n",
              "      <td>XC90 T6 AWD</td>\n",
              "      <td>SUV: Standard</td>\n",
              "      <td>2.0</td>\n",
              "      <td>4</td>\n",
              "      <td>AS8</td>\n",
              "      <td>Z</td>\n",
              "      <td>12.4</td>\n",
              "      <td>8.9</td>\n",
              "      <td>10.8</td>\n",
              "      <td>26</td>\n",
              "      <td>252</td>\n",
              "    </tr>\n",
              "  </tbody>\n",
              "</table>\n",
              "</div>\n",
              "      <button class=\"colab-df-convert\" onclick=\"convertToInteractive('df-ccf1ed5b-29f9-4aa2-93f2-1ce7dc80a0a3')\"\n",
              "              title=\"Convert this dataframe to an interactive table.\"\n",
              "              style=\"display:none;\">\n",
              "        \n",
              "  <svg xmlns=\"http://www.w3.org/2000/svg\" height=\"24px\"viewBox=\"0 0 24 24\"\n",
              "       width=\"24px\">\n",
              "    <path d=\"M0 0h24v24H0V0z\" fill=\"none\"/>\n",
              "    <path d=\"M18.56 5.44l.94 2.06.94-2.06 2.06-.94-2.06-.94-.94-2.06-.94 2.06-2.06.94zm-11 1L8.5 8.5l.94-2.06 2.06-.94-2.06-.94L8.5 2.5l-.94 2.06-2.06.94zm10 10l.94 2.06.94-2.06 2.06-.94-2.06-.94-.94-2.06-.94 2.06-2.06.94z\"/><path d=\"M17.41 7.96l-1.37-1.37c-.4-.4-.92-.59-1.43-.59-.52 0-1.04.2-1.43.59L10.3 9.45l-7.72 7.72c-.78.78-.78 2.05 0 2.83L4 21.41c.39.39.9.59 1.41.59.51 0 1.02-.2 1.41-.59l7.78-7.78 2.81-2.81c.8-.78.8-2.07 0-2.86zM5.41 20L4 18.59l7.72-7.72 1.47 1.35L5.41 20z\"/>\n",
              "  </svg>\n",
              "      </button>\n",
              "      \n",
              "  <style>\n",
              "    .colab-df-container {\n",
              "      display:flex;\n",
              "      flex-wrap:wrap;\n",
              "      gap: 12px;\n",
              "    }\n",
              "\n",
              "    .colab-df-convert {\n",
              "      background-color: #E8F0FE;\n",
              "      border: none;\n",
              "      border-radius: 50%;\n",
              "      cursor: pointer;\n",
              "      display: none;\n",
              "      fill: #1967D2;\n",
              "      height: 32px;\n",
              "      padding: 0 0 0 0;\n",
              "      width: 32px;\n",
              "    }\n",
              "\n",
              "    .colab-df-convert:hover {\n",
              "      background-color: #E2EBFA;\n",
              "      box-shadow: 0px 1px 2px rgba(60, 64, 67, 0.3), 0px 1px 3px 1px rgba(60, 64, 67, 0.15);\n",
              "      fill: #174EA6;\n",
              "    }\n",
              "\n",
              "    [theme=dark] .colab-df-convert {\n",
              "      background-color: #3B4455;\n",
              "      fill: #D2E3FC;\n",
              "    }\n",
              "\n",
              "    [theme=dark] .colab-df-convert:hover {\n",
              "      background-color: #434B5C;\n",
              "      box-shadow: 0px 1px 3px 1px rgba(0, 0, 0, 0.15);\n",
              "      filter: drop-shadow(0px 1px 2px rgba(0, 0, 0, 0.3));\n",
              "      fill: #FFFFFF;\n",
              "    }\n",
              "  </style>\n",
              "\n",
              "      <script>\n",
              "        const buttonEl =\n",
              "          document.querySelector('#df-ccf1ed5b-29f9-4aa2-93f2-1ce7dc80a0a3 button.colab-df-convert');\n",
              "        buttonEl.style.display =\n",
              "          google.colab.kernel.accessAllowed ? 'block' : 'none';\n",
              "\n",
              "        async function convertToInteractive(key) {\n",
              "          const element = document.querySelector('#df-ccf1ed5b-29f9-4aa2-93f2-1ce7dc80a0a3');\n",
              "          const dataTable =\n",
              "            await google.colab.kernel.invokeFunction('convertToInteractive',\n",
              "                                                     [key], {});\n",
              "          if (!dataTable) return;\n",
              "\n",
              "          const docLinkHtml = 'Like what you see? Visit the ' +\n",
              "            '<a target=\"_blank\" href=https://colab.research.google.com/notebooks/data_table.ipynb>data table notebook</a>'\n",
              "            + ' to learn more about interactive tables.';\n",
              "          element.innerHTML = '';\n",
              "          dataTable['output_type'] = 'display_data';\n",
              "          await google.colab.output.renderOutput(dataTable, element);\n",
              "          const docLink = document.createElement('div');\n",
              "          docLink.innerHTML = docLinkHtml;\n",
              "          element.appendChild(docLink);\n",
              "        }\n",
              "      </script>\n",
              "    </div>\n",
              "  </div>\n",
              "  "
            ]
          },
          "metadata": {},
          "execution_count": 62
        }
      ]
    },
    {
      "cell_type": "code",
      "source": [
        "data.describe()"
      ],
      "metadata": {
        "colab": {
          "base_uri": "https://localhost:8080/",
          "height": 344
        },
        "id": "ggSP4LGe6sMs",
        "outputId": "8771a569-cd62-4134-e646-e72f21a0db3e"
      },
      "execution_count": 63,
      "outputs": [
        {
          "output_type": "execute_result",
          "data": {
            "text/plain": [
              "               YEAR   ENGINE SIZE     CYLINDERS  FUEL CONSUMPTION  \\\n",
              "count  22556.000000  22556.000000  22556.000000      22556.000000   \n",
              "mean    2011.554442      3.356646      5.854141         12.763513   \n",
              "std        6.298269      1.335425      1.819597          3.500999   \n",
              "min     2000.000000      0.800000      2.000000          3.500000   \n",
              "25%     2006.000000      2.300000      4.000000         10.400000   \n",
              "50%     2012.000000      3.000000      6.000000         12.300000   \n",
              "75%     2017.000000      4.200000      8.000000         14.725000   \n",
              "max     2022.000000      8.400000     16.000000         30.600000   \n",
              "\n",
              "       HWY (L/100 km)  COMB (L/100 km)    COMB (mpg)     EMISSIONS  \n",
              "count    22556.000000     22556.000000  22556.000000  22556.000000  \n",
              "mean         8.919126        11.034341     27.374534    250.068452  \n",
              "std          2.274764         2.910920      7.376982     59.355276  \n",
              "min          3.200000         3.600000     11.000000     83.000000  \n",
              "25%          7.300000         9.100000     22.000000    209.000000  \n",
              "50%          8.400000        10.600000     27.000000    243.000000  \n",
              "75%         10.200000        12.700000     31.000000    288.000000  \n",
              "max         20.900000        26.100000     78.000000    608.000000  "
            ],
            "text/html": [
              "\n",
              "  <div id=\"df-c6ded82a-db03-4920-ac1c-cbb85b0b5f72\">\n",
              "    <div class=\"colab-df-container\">\n",
              "      <div>\n",
              "<style scoped>\n",
              "    .dataframe tbody tr th:only-of-type {\n",
              "        vertical-align: middle;\n",
              "    }\n",
              "\n",
              "    .dataframe tbody tr th {\n",
              "        vertical-align: top;\n",
              "    }\n",
              "\n",
              "    .dataframe thead th {\n",
              "        text-align: right;\n",
              "    }\n",
              "</style>\n",
              "<table border=\"1\" class=\"dataframe\">\n",
              "  <thead>\n",
              "    <tr style=\"text-align: right;\">\n",
              "      <th></th>\n",
              "      <th>YEAR</th>\n",
              "      <th>ENGINE SIZE</th>\n",
              "      <th>CYLINDERS</th>\n",
              "      <th>FUEL CONSUMPTION</th>\n",
              "      <th>HWY (L/100 km)</th>\n",
              "      <th>COMB (L/100 km)</th>\n",
              "      <th>COMB (mpg)</th>\n",
              "      <th>EMISSIONS</th>\n",
              "    </tr>\n",
              "  </thead>\n",
              "  <tbody>\n",
              "    <tr>\n",
              "      <th>count</th>\n",
              "      <td>22556.000000</td>\n",
              "      <td>22556.000000</td>\n",
              "      <td>22556.000000</td>\n",
              "      <td>22556.000000</td>\n",
              "      <td>22556.000000</td>\n",
              "      <td>22556.000000</td>\n",
              "      <td>22556.000000</td>\n",
              "      <td>22556.000000</td>\n",
              "    </tr>\n",
              "    <tr>\n",
              "      <th>mean</th>\n",
              "      <td>2011.554442</td>\n",
              "      <td>3.356646</td>\n",
              "      <td>5.854141</td>\n",
              "      <td>12.763513</td>\n",
              "      <td>8.919126</td>\n",
              "      <td>11.034341</td>\n",
              "      <td>27.374534</td>\n",
              "      <td>250.068452</td>\n",
              "    </tr>\n",
              "    <tr>\n",
              "      <th>std</th>\n",
              "      <td>6.298269</td>\n",
              "      <td>1.335425</td>\n",
              "      <td>1.819597</td>\n",
              "      <td>3.500999</td>\n",
              "      <td>2.274764</td>\n",
              "      <td>2.910920</td>\n",
              "      <td>7.376982</td>\n",
              "      <td>59.355276</td>\n",
              "    </tr>\n",
              "    <tr>\n",
              "      <th>min</th>\n",
              "      <td>2000.000000</td>\n",
              "      <td>0.800000</td>\n",
              "      <td>2.000000</td>\n",
              "      <td>3.500000</td>\n",
              "      <td>3.200000</td>\n",
              "      <td>3.600000</td>\n",
              "      <td>11.000000</td>\n",
              "      <td>83.000000</td>\n",
              "    </tr>\n",
              "    <tr>\n",
              "      <th>25%</th>\n",
              "      <td>2006.000000</td>\n",
              "      <td>2.300000</td>\n",
              "      <td>4.000000</td>\n",
              "      <td>10.400000</td>\n",
              "      <td>7.300000</td>\n",
              "      <td>9.100000</td>\n",
              "      <td>22.000000</td>\n",
              "      <td>209.000000</td>\n",
              "    </tr>\n",
              "    <tr>\n",
              "      <th>50%</th>\n",
              "      <td>2012.000000</td>\n",
              "      <td>3.000000</td>\n",
              "      <td>6.000000</td>\n",
              "      <td>12.300000</td>\n",
              "      <td>8.400000</td>\n",
              "      <td>10.600000</td>\n",
              "      <td>27.000000</td>\n",
              "      <td>243.000000</td>\n",
              "    </tr>\n",
              "    <tr>\n",
              "      <th>75%</th>\n",
              "      <td>2017.000000</td>\n",
              "      <td>4.200000</td>\n",
              "      <td>8.000000</td>\n",
              "      <td>14.725000</td>\n",
              "      <td>10.200000</td>\n",
              "      <td>12.700000</td>\n",
              "      <td>31.000000</td>\n",
              "      <td>288.000000</td>\n",
              "    </tr>\n",
              "    <tr>\n",
              "      <th>max</th>\n",
              "      <td>2022.000000</td>\n",
              "      <td>8.400000</td>\n",
              "      <td>16.000000</td>\n",
              "      <td>30.600000</td>\n",
              "      <td>20.900000</td>\n",
              "      <td>26.100000</td>\n",
              "      <td>78.000000</td>\n",
              "      <td>608.000000</td>\n",
              "    </tr>\n",
              "  </tbody>\n",
              "</table>\n",
              "</div>\n",
              "      <button class=\"colab-df-convert\" onclick=\"convertToInteractive('df-c6ded82a-db03-4920-ac1c-cbb85b0b5f72')\"\n",
              "              title=\"Convert this dataframe to an interactive table.\"\n",
              "              style=\"display:none;\">\n",
              "        \n",
              "  <svg xmlns=\"http://www.w3.org/2000/svg\" height=\"24px\"viewBox=\"0 0 24 24\"\n",
              "       width=\"24px\">\n",
              "    <path d=\"M0 0h24v24H0V0z\" fill=\"none\"/>\n",
              "    <path d=\"M18.56 5.44l.94 2.06.94-2.06 2.06-.94-2.06-.94-.94-2.06-.94 2.06-2.06.94zm-11 1L8.5 8.5l.94-2.06 2.06-.94-2.06-.94L8.5 2.5l-.94 2.06-2.06.94zm10 10l.94 2.06.94-2.06 2.06-.94-2.06-.94-.94-2.06-.94 2.06-2.06.94z\"/><path d=\"M17.41 7.96l-1.37-1.37c-.4-.4-.92-.59-1.43-.59-.52 0-1.04.2-1.43.59L10.3 9.45l-7.72 7.72c-.78.78-.78 2.05 0 2.83L4 21.41c.39.39.9.59 1.41.59.51 0 1.02-.2 1.41-.59l7.78-7.78 2.81-2.81c.8-.78.8-2.07 0-2.86zM5.41 20L4 18.59l7.72-7.72 1.47 1.35L5.41 20z\"/>\n",
              "  </svg>\n",
              "      </button>\n",
              "      \n",
              "  <style>\n",
              "    .colab-df-container {\n",
              "      display:flex;\n",
              "      flex-wrap:wrap;\n",
              "      gap: 12px;\n",
              "    }\n",
              "\n",
              "    .colab-df-convert {\n",
              "      background-color: #E8F0FE;\n",
              "      border: none;\n",
              "      border-radius: 50%;\n",
              "      cursor: pointer;\n",
              "      display: none;\n",
              "      fill: #1967D2;\n",
              "      height: 32px;\n",
              "      padding: 0 0 0 0;\n",
              "      width: 32px;\n",
              "    }\n",
              "\n",
              "    .colab-df-convert:hover {\n",
              "      background-color: #E2EBFA;\n",
              "      box-shadow: 0px 1px 2px rgba(60, 64, 67, 0.3), 0px 1px 3px 1px rgba(60, 64, 67, 0.15);\n",
              "      fill: #174EA6;\n",
              "    }\n",
              "\n",
              "    [theme=dark] .colab-df-convert {\n",
              "      background-color: #3B4455;\n",
              "      fill: #D2E3FC;\n",
              "    }\n",
              "\n",
              "    [theme=dark] .colab-df-convert:hover {\n",
              "      background-color: #434B5C;\n",
              "      box-shadow: 0px 1px 3px 1px rgba(0, 0, 0, 0.15);\n",
              "      filter: drop-shadow(0px 1px 2px rgba(0, 0, 0, 0.3));\n",
              "      fill: #FFFFFF;\n",
              "    }\n",
              "  </style>\n",
              "\n",
              "      <script>\n",
              "        const buttonEl =\n",
              "          document.querySelector('#df-c6ded82a-db03-4920-ac1c-cbb85b0b5f72 button.colab-df-convert');\n",
              "        buttonEl.style.display =\n",
              "          google.colab.kernel.accessAllowed ? 'block' : 'none';\n",
              "\n",
              "        async function convertToInteractive(key) {\n",
              "          const element = document.querySelector('#df-c6ded82a-db03-4920-ac1c-cbb85b0b5f72');\n",
              "          const dataTable =\n",
              "            await google.colab.kernel.invokeFunction('convertToInteractive',\n",
              "                                                     [key], {});\n",
              "          if (!dataTable) return;\n",
              "\n",
              "          const docLinkHtml = 'Like what you see? Visit the ' +\n",
              "            '<a target=\"_blank\" href=https://colab.research.google.com/notebooks/data_table.ipynb>data table notebook</a>'\n",
              "            + ' to learn more about interactive tables.';\n",
              "          element.innerHTML = '';\n",
              "          dataTable['output_type'] = 'display_data';\n",
              "          await google.colab.output.renderOutput(dataTable, element);\n",
              "          const docLink = document.createElement('div');\n",
              "          docLink.innerHTML = docLinkHtml;\n",
              "          element.appendChild(docLink);\n",
              "        }\n",
              "      </script>\n",
              "    </div>\n",
              "  </div>\n",
              "  "
            ]
          },
          "metadata": {},
          "execution_count": 63
        }
      ]
    },
    {
      "cell_type": "code",
      "source": [
        "#Brands involved in dataframe\n",
        "data['MAKE'].unique()"
      ],
      "metadata": {
        "colab": {
          "base_uri": "https://localhost:8080/"
        },
        "id": "h_MXzjjF8llH",
        "outputId": "262490af-5ba3-49bd-d57c-642335d7db17"
      },
      "execution_count": 64,
      "outputs": [
        {
          "output_type": "execute_result",
          "data": {
            "text/plain": [
              "array(['ACURA', 'AUDI', 'BMW', 'BUICK', 'CADILLAC', 'CHEVROLET',\n",
              "       'CHRYSLER', 'DAEWOO', 'DODGE', 'FERRARI', 'FORD', 'GMC', 'HONDA',\n",
              "       'HYUNDAI', 'INFINITI', 'ISUZU', 'JAGUAR', 'JEEP', 'KIA',\n",
              "       'LAND ROVER', 'LEXUS', 'LINCOLN', 'MAZDA', 'MERCEDES-BENZ',\n",
              "       'NISSAN', 'OLDSMOBILE', 'PLYMOUTH', 'PONTIAC', 'PORSCHE', 'SAAB',\n",
              "       'SATURN', 'SUBARU', 'SUZUKI', 'TOYOTA', 'VOLKSWAGEN', 'VOLVO',\n",
              "       'BENTLEY', 'ROLLS-ROYCE', 'MASERATI', 'MINI', 'MITSUBISHI',\n",
              "       'SMART', 'HUMMER', 'ASTON MARTIN', 'LAMBORGHINI', 'BUGATTI',\n",
              "       'SCION', 'FIAT', 'RAM', 'SRT', 'ALFA ROMEO', 'GENESIS', 'Acura',\n",
              "       'Alfa Romeo', 'Aston Martin', 'Audi', 'Bentley', 'Bugatti',\n",
              "       'Buick', 'Cadillac', 'Chevrolet', 'Chrysler', 'Dodge', 'Ford',\n",
              "       'Genesis', 'Honda', 'Hyundai', 'Infiniti', 'Jaguar', 'Jeep', 'Kia',\n",
              "       'Lamborghini', 'Land Rover', 'Lexus', 'Lincoln', 'Maserati',\n",
              "       'Mazda', 'Mercedes-Benz', 'Mitsubishi', 'Nissan', 'Porsche', 'Ram',\n",
              "       'Rolls-Royce', 'Subaru', 'Toyota', 'Volkswagen', 'Volvo'],\n",
              "      dtype=object)"
            ]
          },
          "metadata": {},
          "execution_count": 64
        }
      ]
    },
    {
      "cell_type": "code",
      "source": [
        "#Body-type of Vehicle\n",
        "data['VEHICLE CLASS'].unique()"
      ],
      "metadata": {
        "colab": {
          "base_uri": "https://localhost:8080/"
        },
        "id": "v1TyxbQm9UN_",
        "outputId": "7bd2b89d-02fe-4027-ab4b-34292ed8e39b"
      },
      "execution_count": 65,
      "outputs": [
        {
          "output_type": "execute_result",
          "data": {
            "text/plain": [
              "array(['COMPACT', 'MID-SIZE', 'SUBCOMPACT', 'STATION WAGON - MID-SIZE',\n",
              "       'MINICOMPACT', 'TWO-SEATER', 'STATION WAGON - SMALL', 'FULL-SIZE',\n",
              "       'SUV', 'VAN - CARGO', 'VAN - PASSENGER', 'PICKUP TRUCK - STANDARD',\n",
              "       'PICKUP TRUCK - SMALL', 'MINIVAN', 'SUV - STANDARD',\n",
              "       'SPECIAL PURPOSE VEHICLE', 'SUV - SMALL', 'Compact', 'SUV: Small',\n",
              "       'Two-seater', 'Mid-size', 'Minicompact', 'Subcompact',\n",
              "       'Station wagon: Small', 'Full-size', 'SUV: Standard',\n",
              "       'Special purpose vehicle', 'Pickup truck: Small',\n",
              "       'Pickup truck: Standard', 'Minivan', 'Van: Passenger',\n",
              "       'Station wagon: Mid-size'], dtype=object)"
            ]
          },
          "metadata": {},
          "execution_count": 65
        }
      ]
    },
    {
      "cell_type": "code",
      "source": [
        "data.nlargest(5,'FUEL CONSUMPTION')"
      ],
      "metadata": {
        "colab": {
          "base_uri": "https://localhost:8080/",
          "height": 530
        },
        "id": "SwS7k-wa9wad",
        "outputId": "70a455ea-59b2-4d6c-e7e4-7b2cf72cf759"
      },
      "execution_count": 66,
      "outputs": [
        {
          "output_type": "execute_result",
          "data": {
            "text/plain": [
              "       YEAR       MAKE                       MODEL    VEHICLE CLASS  \\\n",
              "2313   2003    FERRARI                        ENZO       TWO-SEATER   \n",
              "14511  2015  CHEVROLET  EXPRESS 3500 PASSENGER FFV  VAN - PASSENGER   \n",
              "14716  2015        GMC   SAVANA 3500 PASSENGER FFV  VAN - PASSENGER   \n",
              "14507  2015  CHEVROLET  EXPRESS 2500 PASSENGER FFV  VAN - PASSENGER   \n",
              "14712  2015        GMC   SAVANA 2500 PASSENGER FFV  VAN - PASSENGER   \n",
              "\n",
              "       ENGINE SIZE  CYLINDERS TRANSMISSION FUEL  FUEL CONSUMPTION  \\\n",
              "2313           6.0         12          AS6    Z              30.6   \n",
              "14511          6.0          8           A6    E              30.6   \n",
              "14716          6.0          8           A6    E              30.6   \n",
              "14507          6.0          8           A6    E              30.3   \n",
              "14712          6.0          8           A6    E              30.3   \n",
              "\n",
              "       HWY (L/100 km)  COMB (L/100 km)  COMB (mpg)  EMISSIONS  \n",
              "2313             17.6             24.8          11        570  \n",
              "14511            20.6             26.1          11        418  \n",
              "14716            20.6             26.1          11        418  \n",
              "14507            20.5             25.9          11        414  \n",
              "14712            20.5             25.9          11        414  "
            ],
            "text/html": [
              "\n",
              "  <div id=\"df-be2a48c5-b018-4320-969c-dc1cf9c20a47\">\n",
              "    <div class=\"colab-df-container\">\n",
              "      <div>\n",
              "<style scoped>\n",
              "    .dataframe tbody tr th:only-of-type {\n",
              "        vertical-align: middle;\n",
              "    }\n",
              "\n",
              "    .dataframe tbody tr th {\n",
              "        vertical-align: top;\n",
              "    }\n",
              "\n",
              "    .dataframe thead th {\n",
              "        text-align: right;\n",
              "    }\n",
              "</style>\n",
              "<table border=\"1\" class=\"dataframe\">\n",
              "  <thead>\n",
              "    <tr style=\"text-align: right;\">\n",
              "      <th></th>\n",
              "      <th>YEAR</th>\n",
              "      <th>MAKE</th>\n",
              "      <th>MODEL</th>\n",
              "      <th>VEHICLE CLASS</th>\n",
              "      <th>ENGINE SIZE</th>\n",
              "      <th>CYLINDERS</th>\n",
              "      <th>TRANSMISSION</th>\n",
              "      <th>FUEL</th>\n",
              "      <th>FUEL CONSUMPTION</th>\n",
              "      <th>HWY (L/100 km)</th>\n",
              "      <th>COMB (L/100 km)</th>\n",
              "      <th>COMB (mpg)</th>\n",
              "      <th>EMISSIONS</th>\n",
              "    </tr>\n",
              "  </thead>\n",
              "  <tbody>\n",
              "    <tr>\n",
              "      <th>2313</th>\n",
              "      <td>2003</td>\n",
              "      <td>FERRARI</td>\n",
              "      <td>ENZO</td>\n",
              "      <td>TWO-SEATER</td>\n",
              "      <td>6.0</td>\n",
              "      <td>12</td>\n",
              "      <td>AS6</td>\n",
              "      <td>Z</td>\n",
              "      <td>30.6</td>\n",
              "      <td>17.6</td>\n",
              "      <td>24.8</td>\n",
              "      <td>11</td>\n",
              "      <td>570</td>\n",
              "    </tr>\n",
              "    <tr>\n",
              "      <th>14511</th>\n",
              "      <td>2015</td>\n",
              "      <td>CHEVROLET</td>\n",
              "      <td>EXPRESS 3500 PASSENGER FFV</td>\n",
              "      <td>VAN - PASSENGER</td>\n",
              "      <td>6.0</td>\n",
              "      <td>8</td>\n",
              "      <td>A6</td>\n",
              "      <td>E</td>\n",
              "      <td>30.6</td>\n",
              "      <td>20.6</td>\n",
              "      <td>26.1</td>\n",
              "      <td>11</td>\n",
              "      <td>418</td>\n",
              "    </tr>\n",
              "    <tr>\n",
              "      <th>14716</th>\n",
              "      <td>2015</td>\n",
              "      <td>GMC</td>\n",
              "      <td>SAVANA 3500 PASSENGER FFV</td>\n",
              "      <td>VAN - PASSENGER</td>\n",
              "      <td>6.0</td>\n",
              "      <td>8</td>\n",
              "      <td>A6</td>\n",
              "      <td>E</td>\n",
              "      <td>30.6</td>\n",
              "      <td>20.6</td>\n",
              "      <td>26.1</td>\n",
              "      <td>11</td>\n",
              "      <td>418</td>\n",
              "    </tr>\n",
              "    <tr>\n",
              "      <th>14507</th>\n",
              "      <td>2015</td>\n",
              "      <td>CHEVROLET</td>\n",
              "      <td>EXPRESS 2500 PASSENGER FFV</td>\n",
              "      <td>VAN - PASSENGER</td>\n",
              "      <td>6.0</td>\n",
              "      <td>8</td>\n",
              "      <td>A6</td>\n",
              "      <td>E</td>\n",
              "      <td>30.3</td>\n",
              "      <td>20.5</td>\n",
              "      <td>25.9</td>\n",
              "      <td>11</td>\n",
              "      <td>414</td>\n",
              "    </tr>\n",
              "    <tr>\n",
              "      <th>14712</th>\n",
              "      <td>2015</td>\n",
              "      <td>GMC</td>\n",
              "      <td>SAVANA 2500 PASSENGER FFV</td>\n",
              "      <td>VAN - PASSENGER</td>\n",
              "      <td>6.0</td>\n",
              "      <td>8</td>\n",
              "      <td>A6</td>\n",
              "      <td>E</td>\n",
              "      <td>30.3</td>\n",
              "      <td>20.5</td>\n",
              "      <td>25.9</td>\n",
              "      <td>11</td>\n",
              "      <td>414</td>\n",
              "    </tr>\n",
              "  </tbody>\n",
              "</table>\n",
              "</div>\n",
              "      <button class=\"colab-df-convert\" onclick=\"convertToInteractive('df-be2a48c5-b018-4320-969c-dc1cf9c20a47')\"\n",
              "              title=\"Convert this dataframe to an interactive table.\"\n",
              "              style=\"display:none;\">\n",
              "        \n",
              "  <svg xmlns=\"http://www.w3.org/2000/svg\" height=\"24px\"viewBox=\"0 0 24 24\"\n",
              "       width=\"24px\">\n",
              "    <path d=\"M0 0h24v24H0V0z\" fill=\"none\"/>\n",
              "    <path d=\"M18.56 5.44l.94 2.06.94-2.06 2.06-.94-2.06-.94-.94-2.06-.94 2.06-2.06.94zm-11 1L8.5 8.5l.94-2.06 2.06-.94-2.06-.94L8.5 2.5l-.94 2.06-2.06.94zm10 10l.94 2.06.94-2.06 2.06-.94-2.06-.94-.94-2.06-.94 2.06-2.06.94z\"/><path d=\"M17.41 7.96l-1.37-1.37c-.4-.4-.92-.59-1.43-.59-.52 0-1.04.2-1.43.59L10.3 9.45l-7.72 7.72c-.78.78-.78 2.05 0 2.83L4 21.41c.39.39.9.59 1.41.59.51 0 1.02-.2 1.41-.59l7.78-7.78 2.81-2.81c.8-.78.8-2.07 0-2.86zM5.41 20L4 18.59l7.72-7.72 1.47 1.35L5.41 20z\"/>\n",
              "  </svg>\n",
              "      </button>\n",
              "      \n",
              "  <style>\n",
              "    .colab-df-container {\n",
              "      display:flex;\n",
              "      flex-wrap:wrap;\n",
              "      gap: 12px;\n",
              "    }\n",
              "\n",
              "    .colab-df-convert {\n",
              "      background-color: #E8F0FE;\n",
              "      border: none;\n",
              "      border-radius: 50%;\n",
              "      cursor: pointer;\n",
              "      display: none;\n",
              "      fill: #1967D2;\n",
              "      height: 32px;\n",
              "      padding: 0 0 0 0;\n",
              "      width: 32px;\n",
              "    }\n",
              "\n",
              "    .colab-df-convert:hover {\n",
              "      background-color: #E2EBFA;\n",
              "      box-shadow: 0px 1px 2px rgba(60, 64, 67, 0.3), 0px 1px 3px 1px rgba(60, 64, 67, 0.15);\n",
              "      fill: #174EA6;\n",
              "    }\n",
              "\n",
              "    [theme=dark] .colab-df-convert {\n",
              "      background-color: #3B4455;\n",
              "      fill: #D2E3FC;\n",
              "    }\n",
              "\n",
              "    [theme=dark] .colab-df-convert:hover {\n",
              "      background-color: #434B5C;\n",
              "      box-shadow: 0px 1px 3px 1px rgba(0, 0, 0, 0.15);\n",
              "      filter: drop-shadow(0px 1px 2px rgba(0, 0, 0, 0.3));\n",
              "      fill: #FFFFFF;\n",
              "    }\n",
              "  </style>\n",
              "\n",
              "      <script>\n",
              "        const buttonEl =\n",
              "          document.querySelector('#df-be2a48c5-b018-4320-969c-dc1cf9c20a47 button.colab-df-convert');\n",
              "        buttonEl.style.display =\n",
              "          google.colab.kernel.accessAllowed ? 'block' : 'none';\n",
              "\n",
              "        async function convertToInteractive(key) {\n",
              "          const element = document.querySelector('#df-be2a48c5-b018-4320-969c-dc1cf9c20a47');\n",
              "          const dataTable =\n",
              "            await google.colab.kernel.invokeFunction('convertToInteractive',\n",
              "                                                     [key], {});\n",
              "          if (!dataTable) return;\n",
              "\n",
              "          const docLinkHtml = 'Like what you see? Visit the ' +\n",
              "            '<a target=\"_blank\" href=https://colab.research.google.com/notebooks/data_table.ipynb>data table notebook</a>'\n",
              "            + ' to learn more about interactive tables.';\n",
              "          element.innerHTML = '';\n",
              "          dataTable['output_type'] = 'display_data';\n",
              "          await google.colab.output.renderOutput(dataTable, element);\n",
              "          const docLink = document.createElement('div');\n",
              "          docLink.innerHTML = docLinkHtml;\n",
              "          element.appendChild(docLink);\n",
              "        }\n",
              "      </script>\n",
              "    </div>\n",
              "  </div>\n",
              "  "
            ]
          },
          "metadata": {},
          "execution_count": 66
        }
      ]
    },
    {
      "cell_type": "code",
      "source": [
        "data.nsmallest(5,'FUEL CONSUMPTION')"
      ],
      "metadata": {
        "colab": {
          "base_uri": "https://localhost:8080/",
          "height": 337
        },
        "id": "BONjEw7C93qd",
        "outputId": "605db0b3-ed54-4fe9-d8aa-f4b4c48b60e0"
      },
      "execution_count": 67,
      "outputs": [
        {
          "output_type": "execute_result",
          "data": {
            "text/plain": [
              "       YEAR    MAKE    MODEL VEHICLE CLASS  ENGINE SIZE  CYLINDERS  \\\n",
              "12084  2012  TOYOTA  PRIUS c       COMPACT          1.5          4   \n",
              "13143  2013  TOYOTA  PRIUS c       COMPACT          1.5          4   \n",
              "14184  2014  TOYOTA  PRIUS c       COMPACT          1.5          4   \n",
              "9912   2010  TOYOTA    PRIUS      MID-SIZE          1.8          4   \n",
              "11009  2011  TOYOTA    PRIUS      MID-SIZE          1.8          4   \n",
              "\n",
              "      TRANSMISSION FUEL  FUEL CONSUMPTION  HWY (L/100 km)  COMB (L/100 km)  \\\n",
              "12084           AV    X               3.5             4.0              3.7   \n",
              "13143           AV    X               3.5             4.0              3.7   \n",
              "14184           AV    X               3.6             4.0              3.8   \n",
              "9912            AV    X               3.7             4.0              3.8   \n",
              "11009           AV    X               3.7             4.0              3.8   \n",
              "\n",
              "       COMB (mpg)  EMISSIONS  \n",
              "12084          76         85  \n",
              "13143          76         85  \n",
              "14184          74         87  \n",
              "9912           74         87  \n",
              "11009          74         87  "
            ],
            "text/html": [
              "\n",
              "  <div id=\"df-66a51faa-dfb0-4b21-9c13-c1832a08c4d9\">\n",
              "    <div class=\"colab-df-container\">\n",
              "      <div>\n",
              "<style scoped>\n",
              "    .dataframe tbody tr th:only-of-type {\n",
              "        vertical-align: middle;\n",
              "    }\n",
              "\n",
              "    .dataframe tbody tr th {\n",
              "        vertical-align: top;\n",
              "    }\n",
              "\n",
              "    .dataframe thead th {\n",
              "        text-align: right;\n",
              "    }\n",
              "</style>\n",
              "<table border=\"1\" class=\"dataframe\">\n",
              "  <thead>\n",
              "    <tr style=\"text-align: right;\">\n",
              "      <th></th>\n",
              "      <th>YEAR</th>\n",
              "      <th>MAKE</th>\n",
              "      <th>MODEL</th>\n",
              "      <th>VEHICLE CLASS</th>\n",
              "      <th>ENGINE SIZE</th>\n",
              "      <th>CYLINDERS</th>\n",
              "      <th>TRANSMISSION</th>\n",
              "      <th>FUEL</th>\n",
              "      <th>FUEL CONSUMPTION</th>\n",
              "      <th>HWY (L/100 km)</th>\n",
              "      <th>COMB (L/100 km)</th>\n",
              "      <th>COMB (mpg)</th>\n",
              "      <th>EMISSIONS</th>\n",
              "    </tr>\n",
              "  </thead>\n",
              "  <tbody>\n",
              "    <tr>\n",
              "      <th>12084</th>\n",
              "      <td>2012</td>\n",
              "      <td>TOYOTA</td>\n",
              "      <td>PRIUS c</td>\n",
              "      <td>COMPACT</td>\n",
              "      <td>1.5</td>\n",
              "      <td>4</td>\n",
              "      <td>AV</td>\n",
              "      <td>X</td>\n",
              "      <td>3.5</td>\n",
              "      <td>4.0</td>\n",
              "      <td>3.7</td>\n",
              "      <td>76</td>\n",
              "      <td>85</td>\n",
              "    </tr>\n",
              "    <tr>\n",
              "      <th>13143</th>\n",
              "      <td>2013</td>\n",
              "      <td>TOYOTA</td>\n",
              "      <td>PRIUS c</td>\n",
              "      <td>COMPACT</td>\n",
              "      <td>1.5</td>\n",
              "      <td>4</td>\n",
              "      <td>AV</td>\n",
              "      <td>X</td>\n",
              "      <td>3.5</td>\n",
              "      <td>4.0</td>\n",
              "      <td>3.7</td>\n",
              "      <td>76</td>\n",
              "      <td>85</td>\n",
              "    </tr>\n",
              "    <tr>\n",
              "      <th>14184</th>\n",
              "      <td>2014</td>\n",
              "      <td>TOYOTA</td>\n",
              "      <td>PRIUS c</td>\n",
              "      <td>COMPACT</td>\n",
              "      <td>1.5</td>\n",
              "      <td>4</td>\n",
              "      <td>AV</td>\n",
              "      <td>X</td>\n",
              "      <td>3.6</td>\n",
              "      <td>4.0</td>\n",
              "      <td>3.8</td>\n",
              "      <td>74</td>\n",
              "      <td>87</td>\n",
              "    </tr>\n",
              "    <tr>\n",
              "      <th>9912</th>\n",
              "      <td>2010</td>\n",
              "      <td>TOYOTA</td>\n",
              "      <td>PRIUS</td>\n",
              "      <td>MID-SIZE</td>\n",
              "      <td>1.8</td>\n",
              "      <td>4</td>\n",
              "      <td>AV</td>\n",
              "      <td>X</td>\n",
              "      <td>3.7</td>\n",
              "      <td>4.0</td>\n",
              "      <td>3.8</td>\n",
              "      <td>74</td>\n",
              "      <td>87</td>\n",
              "    </tr>\n",
              "    <tr>\n",
              "      <th>11009</th>\n",
              "      <td>2011</td>\n",
              "      <td>TOYOTA</td>\n",
              "      <td>PRIUS</td>\n",
              "      <td>MID-SIZE</td>\n",
              "      <td>1.8</td>\n",
              "      <td>4</td>\n",
              "      <td>AV</td>\n",
              "      <td>X</td>\n",
              "      <td>3.7</td>\n",
              "      <td>4.0</td>\n",
              "      <td>3.8</td>\n",
              "      <td>74</td>\n",
              "      <td>87</td>\n",
              "    </tr>\n",
              "  </tbody>\n",
              "</table>\n",
              "</div>\n",
              "      <button class=\"colab-df-convert\" onclick=\"convertToInteractive('df-66a51faa-dfb0-4b21-9c13-c1832a08c4d9')\"\n",
              "              title=\"Convert this dataframe to an interactive table.\"\n",
              "              style=\"display:none;\">\n",
              "        \n",
              "  <svg xmlns=\"http://www.w3.org/2000/svg\" height=\"24px\"viewBox=\"0 0 24 24\"\n",
              "       width=\"24px\">\n",
              "    <path d=\"M0 0h24v24H0V0z\" fill=\"none\"/>\n",
              "    <path d=\"M18.56 5.44l.94 2.06.94-2.06 2.06-.94-2.06-.94-.94-2.06-.94 2.06-2.06.94zm-11 1L8.5 8.5l.94-2.06 2.06-.94-2.06-.94L8.5 2.5l-.94 2.06-2.06.94zm10 10l.94 2.06.94-2.06 2.06-.94-2.06-.94-.94-2.06-.94 2.06-2.06.94z\"/><path d=\"M17.41 7.96l-1.37-1.37c-.4-.4-.92-.59-1.43-.59-.52 0-1.04.2-1.43.59L10.3 9.45l-7.72 7.72c-.78.78-.78 2.05 0 2.83L4 21.41c.39.39.9.59 1.41.59.51 0 1.02-.2 1.41-.59l7.78-7.78 2.81-2.81c.8-.78.8-2.07 0-2.86zM5.41 20L4 18.59l7.72-7.72 1.47 1.35L5.41 20z\"/>\n",
              "  </svg>\n",
              "      </button>\n",
              "      \n",
              "  <style>\n",
              "    .colab-df-container {\n",
              "      display:flex;\n",
              "      flex-wrap:wrap;\n",
              "      gap: 12px;\n",
              "    }\n",
              "\n",
              "    .colab-df-convert {\n",
              "      background-color: #E8F0FE;\n",
              "      border: none;\n",
              "      border-radius: 50%;\n",
              "      cursor: pointer;\n",
              "      display: none;\n",
              "      fill: #1967D2;\n",
              "      height: 32px;\n",
              "      padding: 0 0 0 0;\n",
              "      width: 32px;\n",
              "    }\n",
              "\n",
              "    .colab-df-convert:hover {\n",
              "      background-color: #E2EBFA;\n",
              "      box-shadow: 0px 1px 2px rgba(60, 64, 67, 0.3), 0px 1px 3px 1px rgba(60, 64, 67, 0.15);\n",
              "      fill: #174EA6;\n",
              "    }\n",
              "\n",
              "    [theme=dark] .colab-df-convert {\n",
              "      background-color: #3B4455;\n",
              "      fill: #D2E3FC;\n",
              "    }\n",
              "\n",
              "    [theme=dark] .colab-df-convert:hover {\n",
              "      background-color: #434B5C;\n",
              "      box-shadow: 0px 1px 3px 1px rgba(0, 0, 0, 0.15);\n",
              "      filter: drop-shadow(0px 1px 2px rgba(0, 0, 0, 0.3));\n",
              "      fill: #FFFFFF;\n",
              "    }\n",
              "  </style>\n",
              "\n",
              "      <script>\n",
              "        const buttonEl =\n",
              "          document.querySelector('#df-66a51faa-dfb0-4b21-9c13-c1832a08c4d9 button.colab-df-convert');\n",
              "        buttonEl.style.display =\n",
              "          google.colab.kernel.accessAllowed ? 'block' : 'none';\n",
              "\n",
              "        async function convertToInteractive(key) {\n",
              "          const element = document.querySelector('#df-66a51faa-dfb0-4b21-9c13-c1832a08c4d9');\n",
              "          const dataTable =\n",
              "            await google.colab.kernel.invokeFunction('convertToInteractive',\n",
              "                                                     [key], {});\n",
              "          if (!dataTable) return;\n",
              "\n",
              "          const docLinkHtml = 'Like what you see? Visit the ' +\n",
              "            '<a target=\"_blank\" href=https://colab.research.google.com/notebooks/data_table.ipynb>data table notebook</a>'\n",
              "            + ' to learn more about interactive tables.';\n",
              "          element.innerHTML = '';\n",
              "          dataTable['output_type'] = 'display_data';\n",
              "          await google.colab.output.renderOutput(dataTable, element);\n",
              "          const docLink = document.createElement('div');\n",
              "          docLink.innerHTML = docLinkHtml;\n",
              "          element.appendChild(docLink);\n",
              "        }\n",
              "      </script>\n",
              "    </div>\n",
              "  </div>\n",
              "  "
            ]
          },
          "metadata": {},
          "execution_count": 67
        }
      ]
    },
    {
      "cell_type": "markdown",
      "source": [
        "Data Visualisation"
      ],
      "metadata": {
        "id": "bihhJdSpBSxA"
      }
    },
    {
      "cell_type": "code",
      "source": [
        "#top 10 car company contribution in the market\n",
        "data['MAKE'].value_counts().head(10).plot(kind='pie',autopct=\"%0.1f%%\").set_title('Top Ten Car Company Contribution in the market')"
      ],
      "metadata": {
        "colab": {
          "base_uri": "https://localhost:8080/",
          "height": 281
        },
        "id": "1kHYrf3AAX-Q",
        "outputId": "809aaba7-1aab-4adb-d1ee-cf18df51d061"
      },
      "execution_count": 68,
      "outputs": [
        {
          "output_type": "execute_result",
          "data": {
            "text/plain": [
              "Text(0.5, 1.0, 'Top Ten Car Company Contribution in the market')"
            ]
          },
          "metadata": {},
          "execution_count": 68
        },
        {
          "output_type": "display_data",
          "data": {
            "text/plain": [
              "<Figure size 432x288 with 1 Axes>"
            ],
            "image/png": "[encoded data removed]"
          },
          "metadata": {}
        }
      ]
    },
    {
      "cell_type": "code",
      "source": [
        "#top 10 car model\n",
        "data['MODEL'].value_counts().head(10).plot(kind='pie',autopct=\"%0.1f%%\").set_title('Top Ten Car Model')"
      ],
      "metadata": {
        "colab": {
          "base_uri": "https://localhost:8080/",
          "height": 281
        },
        "id": "n14rL0bCBmBA",
        "outputId": "0220268c-1337-4dba-9ad4-ea05e17bfdb1"
      },
      "execution_count": 69,
      "outputs": [
        {
          "output_type": "execute_result",
          "data": {
            "text/plain": [
              "Text(0.5, 1.0, 'Top Ten Car Model')"
            ]
          },
          "metadata": {},
          "execution_count": 69
        },
        {
          "output_type": "display_data",
          "data": {
            "text/plain": [
              "<Figure size 432x288 with 1 Axes>"
            ],
            "image/png": "[encoded data removed]"
          },
          "metadata": {}
        }
      ]
    },
    {
      "cell_type": "code",
      "source": [
        "#top 10 most used vechicle class\n",
        "data['VEHICLE CLASS'].value_counts().head(10).plot(kind=\"pie\",autopct=\"%0.1f%%\").set_title(\"Top 10 Most used Vechicle Class\")"
      ],
      "metadata": {
        "colab": {
          "base_uri": "https://localhost:8080/",
          "height": 281
        },
        "id": "oLB4ALrzBtJ1",
        "outputId": "a8c9b086-56f6-4fa0-9abf-76b16a265f6f"
      },
      "execution_count": 70,
      "outputs": [
        {
          "output_type": "execute_result",
          "data": {
            "text/plain": [
              "Text(0.5, 1.0, 'Top 10 Most used Vechicle Class')"
            ]
          },
          "metadata": {},
          "execution_count": 70
        },
        {
          "output_type": "display_data",
          "data": {
            "text/plain": [
              "<Figure size 432x288 with 1 Axes>"
            ],
            "image/png": "[encoded data removed]"
          },
          "metadata": {}
        }
      ]
    },
    {
      "cell_type": "code",
      "source": [
        "sns.histplot(data.EMISSIONS)"
      ],
      "metadata": {
        "colab": {
          "base_uri": "https://localhost:8080/",
          "height": 296
        },
        "id": "at-t3DJxAjoR",
        "outputId": "76cba26e-8337-4462-b22c-224dfa807db9"
      },
      "execution_count": 71,
      "outputs": [
        {
          "output_type": "execute_result",
          "data": {
            "text/plain": [
              "<AxesSubplot:xlabel='EMISSIONS', ylabel='Count'>"
            ]
          },
          "metadata": {},
          "execution_count": 71
        },
        {
          "output_type": "display_data",
          "data": {
            "text/plain": [
              "<Figure size 432x288 with 1 Axes>"
            ],
            "image/png": "[encoded data removed]"
          },
          "metadata": {
            "needs_background": "light"
          }
        }
      ]
    },
    {
      "cell_type": "code",
      "source": [
        "FUEL=data[['YEAR','MAKE','FUEL CONSUMPTION','EMISSIONS']]\n",
        "print(FUEL)\n",
        "\n",
        "x=FUEL.nlargest(5,'FUEL CONSUMPTION')\n",
        "print(x)\n",
        "sns.histplot(FUEL)"
      ],
      "metadata": {
        "colab": {
          "base_uri": "https://localhost:8080/",
          "height": 629
        },
        "id": "QULW52Tr-FNZ",
        "outputId": "09f8242d-76b1-4d0f-880e-ebbc3ff992cc"
      },
      "execution_count": 72,
      "outputs": [
        {
          "output_type": "stream",
          "name": "stdout",
          "text": [
            "       YEAR   MAKE  FUEL CONSUMPTION  EMISSIONS\n",
            "0      2000  ACURA               9.2        186\n",
            "1      2000  ACURA               8.5        175\n",
            "2      2000  ACURA              12.2        230\n",
            "3      2000  ACURA              13.4        264\n",
            "4      2000  ACURA              10.0        198\n",
            "...     ...    ...               ...        ...\n",
            "22551  2022  Volvo              10.7        219\n",
            "22552  2022  Volvo              10.5        219\n",
            "22553  2022  Volvo              11.0        232\n",
            "22554  2022  Volvo              11.5        236\n",
            "22555  2022  Volvo              12.4        252\n",
            "\n",
            "[22556 rows x 4 columns]\n",
            "       YEAR       MAKE  FUEL CONSUMPTION  EMISSIONS\n",
            "2313   2003    FERRARI              30.6        570\n",
            "14511  2015  CHEVROLET              30.6        418\n",
            "14716  2015        GMC              30.6        418\n",
            "14507  2015  CHEVROLET              30.3        414\n",
            "14712  2015        GMC              30.3        414\n"
          ]
        },
        {
          "output_type": "execute_result",
          "data": {
            "text/plain": [
              "<AxesSubplot:ylabel='Count'>"
            ]
          },
          "metadata": {},
          "execution_count": 72
        },
        {
          "output_type": "display_data",
          "data": {
            "text/plain": [
              "<Figure size 432x288 with 1 Axes>"
            ],
            "image/png": "[encoded data removed]"
          },
          "metadata": {
            "needs_background": "light"
          }
        }
      ]
    },
    {
      "cell_type": "code",
      "source": [
        "# Create scatterplots for each column against CO2 EMISSIONS\n",
        "sns.scatterplot(x='ENGINE SIZE', y='EMISSIONS', data=data)"
      ],
      "metadata": {
        "colab": {
          "base_uri": "https://localhost:8080/",
          "height": 296
        },
        "id": "GoMk9MB8-srO",
        "outputId": "ad48e7ae-874e-44e9-a2eb-14e01793b614"
      },
      "execution_count": 73,
      "outputs": [
        {
          "output_type": "execute_result",
          "data": {
            "text/plain": [
              "<AxesSubplot:xlabel='ENGINE SIZE', ylabel='EMISSIONS'>"
            ]
          },
          "metadata": {},
          "execution_count": 73
        },
        {
          "output_type": "display_data",
          "data": {
            "text/plain": [
              "<Figure size 432x288 with 1 Axes>"
            ],
            "image/png": "[encoded data removed]"
          },
          "metadata": {
            "needs_background": "light"
          }
        }
      ]
    },
    {
      "cell_type": "code",
      "source": [
        "sns.scatterplot(x='CYLINDERS', y='EMISSIONS', data=data)"
      ],
      "metadata": {
        "colab": {
          "base_uri": "https://localhost:8080/",
          "height": 296
        },
        "id": "V6Xu-i2H-vKl",
        "outputId": "d8ab4dab-e491-43b7-c5f3-ca97dcffbf9a"
      },
      "execution_count": 74,
      "outputs": [
        {
          "output_type": "execute_result",
          "data": {
            "text/plain": [
              "<AxesSubplot:xlabel='CYLINDERS', ylabel='EMISSIONS'>"
            ]
          },
          "metadata": {},
          "execution_count": 74
        },
        {
          "output_type": "display_data",
          "data": {
            "text/plain": [
              "<Figure size 432x288 with 1 Axes>"
            ],
            "image/png": "[encoded data removed]"
          },
          "metadata": {
            "needs_background": "light"
          }
        }
      ]
    },
    {
      "cell_type": "code",
      "source": [
        "#we can have many more scatterplots.But i'm creating only 2\n"
      ],
      "metadata": {
        "id": "9J2Be4lU-5_S"
      },
      "execution_count": 75,
      "outputs": []
    }
  ]
}